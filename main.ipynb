{
 "cells": [
  {
   "cell_type": "code",
   "execution_count": 75,
   "metadata": {},
   "outputs": [],
   "source": [
    "import os\n",
    "import pandas as pd\n",
    "import numpy as np\n",
    "import sys\n",
    "import patsy\n",
    "import statsmodels.api as sm\n",
    "import statsmodels.formula.api as smf\n",
    "from sklearn.linear_model import LinearRegression, LogisticRegression, LogisticRegressionCV\n",
    "from sklearn.model_selection import train_test_split, GridSearchCV, KFold\n",
    "import sklearn.metrics as metrics\n",
    "from sklearn.metrics import brier_score_loss, roc_curve, auc, confusion_matrix, roc_auc_score, mean_squared_error\n",
    "from sklearn.ensemble import RandomForestClassifier\n",
    "from plotnine import *\n",
    "import seaborn as sns\n",
    "import matplotlib.pyplot as plt\n",
    "from sklearn.model_selection import train_test_split\n",
    "from sklearn.preprocessing import StandardScaler\n",
    "from stargazer import stargazer\n",
    "from statsmodels.tools.eval_measures import mse,rmse\n",
    "import matplotlib.pyplot as plt\n",
    "from mizani.formatters import percent_format\n",
    "pd.set_option('display.max_columns', None)\n",
    "from sklearn.ensemble import RandomForestClassifier, GradientBoostingClassifier\n",
    "from sklearn.metrics import accuracy_score, roc_curve, roc_auc_score, confusion_matrix, classification_report, brier_score_loss\n",
    "\n",
    "import warnings\n",
    "warnings.filterwarnings('ignore')"
   ]
  },
  {
   "cell_type": "code",
   "execution_count": 76,
   "metadata": {},
   "outputs": [],
   "source": [
    "data = pd.read_csv(\"https://raw.githubusercontent.com/Jk33033/DA3_hw3/main/cs_bisnode_panel.csv\")\n"
   ]
  },
  {
   "cell_type": "code",
   "execution_count": 77,
   "metadata": {},
   "outputs": [
    {
     "data": {
      "text/html": [
       "<div>\n",
       "<style scoped>\n",
       "    .dataframe tbody tr th:only-of-type {\n",
       "        vertical-align: middle;\n",
       "    }\n",
       "\n",
       "    .dataframe tbody tr th {\n",
       "        vertical-align: top;\n",
       "    }\n",
       "\n",
       "    .dataframe thead th {\n",
       "        text-align: right;\n",
       "    }\n",
       "</style>\n",
       "<table border=\"1\" class=\"dataframe\">\n",
       "  <thead>\n",
       "    <tr style=\"text-align: right;\">\n",
       "      <th></th>\n",
       "      <th>comp_id</th>\n",
       "      <th>COGS</th>\n",
       "      <th>amort</th>\n",
       "      <th>curr_assets</th>\n",
       "      <th>curr_liab</th>\n",
       "      <th>extra_exp</th>\n",
       "      <th>extra_inc</th>\n",
       "      <th>extra_profit_loss</th>\n",
       "      <th>finished_prod</th>\n",
       "      <th>fixed_assets</th>\n",
       "      <th>inc_bef_tax</th>\n",
       "      <th>intang_assets</th>\n",
       "      <th>inventories</th>\n",
       "      <th>liq_assets</th>\n",
       "      <th>material_exp</th>\n",
       "      <th>net_dom_sales</th>\n",
       "      <th>net_exp_sales</th>\n",
       "      <th>personnel_exp</th>\n",
       "      <th>profit_loss_year</th>\n",
       "      <th>sales</th>\n",
       "      <th>share_eq</th>\n",
       "      <th>subscribed_cap</th>\n",
       "      <th>tang_assets</th>\n",
       "      <th>wages</th>\n",
       "      <th>D</th>\n",
       "      <th>balsheet_flag</th>\n",
       "      <th>balsheet_length</th>\n",
       "      <th>balsheet_notfullyear</th>\n",
       "      <th>year</th>\n",
       "      <th>founded_year</th>\n",
       "      <th>exit_year</th>\n",
       "      <th>ceo_count</th>\n",
       "      <th>foreign</th>\n",
       "      <th>female</th>\n",
       "      <th>birth_year</th>\n",
       "      <th>inoffice_days</th>\n",
       "      <th>nace_main</th>\n",
       "      <th>ind2</th>\n",
       "      <th>ind</th>\n",
       "      <th>urban_m</th>\n",
       "      <th>labor_avg</th>\n",
       "    </tr>\n",
       "  </thead>\n",
       "  <tbody>\n",
       "    <tr>\n",
       "      <th>count</th>\n",
       "      <td>2.878290e+05</td>\n",
       "      <td>1.825700e+04</td>\n",
       "      <td>2.797890e+05</td>\n",
       "      <td>2.876980e+05</td>\n",
       "      <td>2.876980e+05</td>\n",
       "      <td>2.693000e+05</td>\n",
       "      <td>2.693000e+05</td>\n",
       "      <td>2.706260e+05</td>\n",
       "      <td>1.748500e+04</td>\n",
       "      <td>2.876980e+05</td>\n",
       "      <td>2.803920e+05</td>\n",
       "      <td>2.876890e+05</td>\n",
       "      <td>2.876980e+05</td>\n",
       "      <td>2.876980e+05</td>\n",
       "      <td>2.797890e+05</td>\n",
       "      <td>1.825700e+04</td>\n",
       "      <td>1.825700e+04</td>\n",
       "      <td>2.797890e+05</td>\n",
       "      <td>2.779450e+05</td>\n",
       "      <td>2.803920e+05</td>\n",
       "      <td>2.876980e+05</td>\n",
       "      <td>2.876980e+05</td>\n",
       "      <td>2.863590e+05</td>\n",
       "      <td>1.798300e+04</td>\n",
       "      <td>0.0</td>\n",
       "      <td>287829.000000</td>\n",
       "      <td>287829.000000</td>\n",
       "      <td>287829.000000</td>\n",
       "      <td>287829.000000</td>\n",
       "      <td>231372.000000</td>\n",
       "      <td>38859.000000</td>\n",
       "      <td>231402.000000</td>\n",
       "      <td>231402.000000</td>\n",
       "      <td>231402.000000</td>\n",
       "      <td>176011.000000</td>\n",
       "      <td>231402.000000</td>\n",
       "      <td>286791.000000</td>\n",
       "      <td>286791.000000</td>\n",
       "      <td>278060.000000</td>\n",
       "      <td>287829.000000</td>\n",
       "      <td>141297.000000</td>\n",
       "    </tr>\n",
       "    <tr>\n",
       "      <th>mean</th>\n",
       "      <td>1.540862e+11</td>\n",
       "      <td>4.601683e+05</td>\n",
       "      <td>2.353264e+04</td>\n",
       "      <td>2.209395e+05</td>\n",
       "      <td>1.742499e+05</td>\n",
       "      <td>1.521749e+03</td>\n",
       "      <td>3.754458e+03</td>\n",
       "      <td>2.229149e+03</td>\n",
       "      <td>1.056481e+05</td>\n",
       "      <td>3.393731e+05</td>\n",
       "      <td>2.332423e+04</td>\n",
       "      <td>3.782416e+04</td>\n",
       "      <td>6.052729e+04</td>\n",
       "      <td>4.098719e+04</td>\n",
       "      <td>3.594648e+05</td>\n",
       "      <td>2.118066e+06</td>\n",
       "      <td>3.368463e+06</td>\n",
       "      <td>9.229396e+04</td>\n",
       "      <td>5.152337e+03</td>\n",
       "      <td>5.042513e+05</td>\n",
       "      <td>2.350564e+05</td>\n",
       "      <td>7.741440e+04</td>\n",
       "      <td>2.216273e+05</td>\n",
       "      <td>6.554714e+05</td>\n",
       "      <td>NaN</td>\n",
       "      <td>0.013327</td>\n",
       "      <td>345.584719</td>\n",
       "      <td>0.100237</td>\n",
       "      <td>2010.570356</td>\n",
       "      <td>2002.177545</td>\n",
       "      <td>2013.950102</td>\n",
       "      <td>1.254038</td>\n",
       "      <td>0.115653</td>\n",
       "      <td>0.255157</td>\n",
       "      <td>1964.902661</td>\n",
       "      <td>3205.323629</td>\n",
       "      <td>4858.231479</td>\n",
       "      <td>48.353062</td>\n",
       "      <td>2.692023</td>\n",
       "      <td>2.067075</td>\n",
       "      <td>1.009435</td>\n",
       "    </tr>\n",
       "    <tr>\n",
       "      <th>std</th>\n",
       "      <td>1.382424e+11</td>\n",
       "      <td>2.614149e+06</td>\n",
       "      <td>8.216668e+05</td>\n",
       "      <td>4.182020e+06</td>\n",
       "      <td>3.730357e+06</td>\n",
       "      <td>7.237342e+04</td>\n",
       "      <td>1.727794e+05</td>\n",
       "      <td>1.611169e+05</td>\n",
       "      <td>5.338053e+05</td>\n",
       "      <td>1.823176e+07</td>\n",
       "      <td>2.413799e+06</td>\n",
       "      <td>6.260181e+06</td>\n",
       "      <td>6.670054e+05</td>\n",
       "      <td>6.602564e+05</td>\n",
       "      <td>2.940907e+06</td>\n",
       "      <td>6.746671e+06</td>\n",
       "      <td>1.135202e+07</td>\n",
       "      <td>7.058337e+05</td>\n",
       "      <td>1.892475e+06</td>\n",
       "      <td>3.861890e+06</td>\n",
       "      <td>7.465366e+06</td>\n",
       "      <td>1.746095e+06</td>\n",
       "      <td>2.580851e+06</td>\n",
       "      <td>1.725947e+06</td>\n",
       "      <td>NaN</td>\n",
       "      <td>0.114673</td>\n",
       "      <td>65.537706</td>\n",
       "      <td>0.300316</td>\n",
       "      <td>3.180848</td>\n",
       "      <td>6.931043</td>\n",
       "      <td>2.160074</td>\n",
       "      <td>0.517837</td>\n",
       "      <td>0.308518</td>\n",
       "      <td>0.406538</td>\n",
       "      <td>11.546875</td>\n",
       "      <td>1880.553038</td>\n",
       "      <td>1250.012437</td>\n",
       "      <td>12.570550</td>\n",
       "      <td>0.512269</td>\n",
       "      <td>0.847473</td>\n",
       "      <td>4.771655</td>\n",
       "    </tr>\n",
       "    <tr>\n",
       "      <th>min</th>\n",
       "      <td>1.001034e+06</td>\n",
       "      <td>-8.445704e+05</td>\n",
       "      <td>-3.076704e+05</td>\n",
       "      <td>-5.555556e+05</td>\n",
       "      <td>-7.727111e+05</td>\n",
       "      <td>-4.902703e+05</td>\n",
       "      <td>-2.744074e+05</td>\n",
       "      <td>-6.181263e+06</td>\n",
       "      <td>0.000000e+00</td>\n",
       "      <td>-2.394226e+06</td>\n",
       "      <td>-3.355148e+08</td>\n",
       "      <td>-3.770370e+03</td>\n",
       "      <td>-3.069630e+04</td>\n",
       "      <td>-5.555556e+05</td>\n",
       "      <td>-1.239974e+07</td>\n",
       "      <td>-8.458481e+05</td>\n",
       "      <td>-1.470007e+07</td>\n",
       "      <td>-4.338074e+05</td>\n",
       "      <td>-3.355148e+08</td>\n",
       "      <td>-1.472559e+07</td>\n",
       "      <td>-4.210445e+07</td>\n",
       "      <td>-5.555556e+05</td>\n",
       "      <td>-2.390456e+06</td>\n",
       "      <td>-1.825248e+06</td>\n",
       "      <td>NaN</td>\n",
       "      <td>0.000000</td>\n",
       "      <td>0.000000</td>\n",
       "      <td>0.000000</td>\n",
       "      <td>2005.000000</td>\n",
       "      <td>1950.000000</td>\n",
       "      <td>1997.000000</td>\n",
       "      <td>1.000000</td>\n",
       "      <td>0.000000</td>\n",
       "      <td>0.000000</td>\n",
       "      <td>1920.000000</td>\n",
       "      <td>1.000000</td>\n",
       "      <td>111.000000</td>\n",
       "      <td>1.000000</td>\n",
       "      <td>1.000000</td>\n",
       "      <td>1.000000</td>\n",
       "      <td>0.000000</td>\n",
       "    </tr>\n",
       "    <tr>\n",
       "      <th>25%</th>\n",
       "      <td>2.868635e+10</td>\n",
       "      <td>0.000000e+00</td>\n",
       "      <td>3.333333e+01</td>\n",
       "      <td>2.203704e+03</td>\n",
       "      <td>1.833333e+03</td>\n",
       "      <td>0.000000e+00</td>\n",
       "      <td>0.000000e+00</td>\n",
       "      <td>0.000000e+00</td>\n",
       "      <td>0.000000e+00</td>\n",
       "      <td>0.000000e+00</td>\n",
       "      <td>-3.388889e+03</td>\n",
       "      <td>0.000000e+00</td>\n",
       "      <td>0.000000e+00</td>\n",
       "      <td>3.370370e+02</td>\n",
       "      <td>3.433333e+03</td>\n",
       "      <td>1.775926e+04</td>\n",
       "      <td>0.000000e+00</td>\n",
       "      <td>4.888889e+02</td>\n",
       "      <td>-3.270370e+03</td>\n",
       "      <td>5.295370e+03</td>\n",
       "      <td>-4.533333e+03</td>\n",
       "      <td>1.851852e+03</td>\n",
       "      <td>0.000000e+00</td>\n",
       "      <td>3.500000e+03</td>\n",
       "      <td>NaN</td>\n",
       "      <td>0.000000</td>\n",
       "      <td>364.000000</td>\n",
       "      <td>0.000000</td>\n",
       "      <td>2008.000000</td>\n",
       "      <td>1996.000000</td>\n",
       "      <td>2013.000000</td>\n",
       "      <td>1.000000</td>\n",
       "      <td>0.000000</td>\n",
       "      <td>0.000000</td>\n",
       "      <td>1956.000000</td>\n",
       "      <td>1775.000000</td>\n",
       "      <td>3314.000000</td>\n",
       "      <td>33.000000</td>\n",
       "      <td>2.000000</td>\n",
       "      <td>1.000000</td>\n",
       "      <td>0.090909</td>\n",
       "    </tr>\n",
       "    <tr>\n",
       "      <th>50%</th>\n",
       "      <td>1.152850e+11</td>\n",
       "      <td>7.040741e+03</td>\n",
       "      <td>7.814815e+02</td>\n",
       "      <td>9.592593e+03</td>\n",
       "      <td>1.049259e+04</td>\n",
       "      <td>0.000000e+00</td>\n",
       "      <td>0.000000e+00</td>\n",
       "      <td>0.000000e+00</td>\n",
       "      <td>0.000000e+00</td>\n",
       "      <td>3.825926e+03</td>\n",
       "      <td>7.037037e+01</td>\n",
       "      <td>0.000000e+00</td>\n",
       "      <td>4.555555e+02</td>\n",
       "      <td>1.851852e+03</td>\n",
       "      <td>2.361481e+04</td>\n",
       "      <td>1.943373e+05</td>\n",
       "      <td>0.000000e+00</td>\n",
       "      <td>7.885185e+03</td>\n",
       "      <td>0.000000e+00</td>\n",
       "      <td>3.280741e+04</td>\n",
       "      <td>3.838889e+03</td>\n",
       "      <td>5.555556e+03</td>\n",
       "      <td>3.311111e+03</td>\n",
       "      <td>6.485555e+04</td>\n",
       "      <td>NaN</td>\n",
       "      <td>0.000000</td>\n",
       "      <td>364.000000</td>\n",
       "      <td>0.000000</td>\n",
       "      <td>2011.000000</td>\n",
       "      <td>2002.000000</td>\n",
       "      <td>2015.000000</td>\n",
       "      <td>1.000000</td>\n",
       "      <td>0.000000</td>\n",
       "      <td>0.000000</td>\n",
       "      <td>1966.000000</td>\n",
       "      <td>2838.000000</td>\n",
       "      <td>5610.000000</td>\n",
       "      <td>56.000000</td>\n",
       "      <td>3.000000</td>\n",
       "      <td>2.000000</td>\n",
       "      <td>0.243056</td>\n",
       "    </tr>\n",
       "    <tr>\n",
       "      <th>75%</th>\n",
       "      <td>2.593958e+11</td>\n",
       "      <td>1.063000e+05</td>\n",
       "      <td>4.003704e+03</td>\n",
       "      <td>3.552130e+04</td>\n",
       "      <td>4.101852e+04</td>\n",
       "      <td>0.000000e+00</td>\n",
       "      <td>0.000000e+00</td>\n",
       "      <td>0.000000e+00</td>\n",
       "      <td>3.592592e+02</td>\n",
       "      <td>3.593982e+04</td>\n",
       "      <td>3.774074e+03</td>\n",
       "      <td>0.000000e+00</td>\n",
       "      <td>5.580556e+03</td>\n",
       "      <td>9.503704e+03</td>\n",
       "      <td>8.700000e+04</td>\n",
       "      <td>1.601967e+06</td>\n",
       "      <td>6.323333e+05</td>\n",
       "      <td>2.640741e+04</td>\n",
       "      <td>1.914815e+03</td>\n",
       "      <td>1.210056e+05</td>\n",
       "      <td>2.706296e+04</td>\n",
       "      <td>1.111111e+04</td>\n",
       "      <td>3.299630e+04</td>\n",
       "      <td>5.497648e+05</td>\n",
       "      <td>NaN</td>\n",
       "      <td>0.000000</td>\n",
       "      <td>364.000000</td>\n",
       "      <td>0.000000</td>\n",
       "      <td>2013.000000</td>\n",
       "      <td>2008.000000</td>\n",
       "      <td>2016.000000</td>\n",
       "      <td>1.000000</td>\n",
       "      <td>0.000000</td>\n",
       "      <td>0.500000</td>\n",
       "      <td>1974.000000</td>\n",
       "      <td>4468.750000</td>\n",
       "      <td>5610.000000</td>\n",
       "      <td>56.000000</td>\n",
       "      <td>3.000000</td>\n",
       "      <td>3.000000</td>\n",
       "      <td>0.583333</td>\n",
       "    </tr>\n",
       "    <tr>\n",
       "      <th>max</th>\n",
       "      <td>4.641209e+11</td>\n",
       "      <td>9.499693e+07</td>\n",
       "      <td>1.820889e+08</td>\n",
       "      <td>1.299011e+09</td>\n",
       "      <td>1.683374e+09</td>\n",
       "      <td>1.704172e+07</td>\n",
       "      <td>7.233078e+07</td>\n",
       "      <td>7.233078e+07</td>\n",
       "      <td>1.803635e+07</td>\n",
       "      <td>7.940211e+09</td>\n",
       "      <td>8.977000e+08</td>\n",
       "      <td>1.813456e+09</td>\n",
       "      <td>1.078533e+08</td>\n",
       "      <td>1.617547e+08</td>\n",
       "      <td>1.521631e+08</td>\n",
       "      <td>1.089101e+08</td>\n",
       "      <td>1.105340e+08</td>\n",
       "      <td>6.146913e+07</td>\n",
       "      <td>8.977000e+08</td>\n",
       "      <td>1.110294e+08</td>\n",
       "      <td>2.795907e+09</td>\n",
       "      <td>6.918000e+08</td>\n",
       "      <td>4.511007e+08</td>\n",
       "      <td>4.553498e+07</td>\n",
       "      <td>NaN</td>\n",
       "      <td>1.000000</td>\n",
       "      <td>365.000000</td>\n",
       "      <td>1.000000</td>\n",
       "      <td>2016.000000</td>\n",
       "      <td>2015.000000</td>\n",
       "      <td>2017.000000</td>\n",
       "      <td>15.000000</td>\n",
       "      <td>1.000000</td>\n",
       "      <td>1.000000</td>\n",
       "      <td>2016.000000</td>\n",
       "      <td>10983.000000</td>\n",
       "      <td>9609.000000</td>\n",
       "      <td>96.000000</td>\n",
       "      <td>3.000000</td>\n",
       "      <td>3.000000</td>\n",
       "      <td>219.333344</td>\n",
       "    </tr>\n",
       "  </tbody>\n",
       "</table>\n",
       "</div>"
      ],
      "text/plain": [
       "            comp_id          COGS         amort   curr_assets     curr_liab  \\\n",
       "count  2.878290e+05  1.825700e+04  2.797890e+05  2.876980e+05  2.876980e+05   \n",
       "mean   1.540862e+11  4.601683e+05  2.353264e+04  2.209395e+05  1.742499e+05   \n",
       "std    1.382424e+11  2.614149e+06  8.216668e+05  4.182020e+06  3.730357e+06   \n",
       "min    1.001034e+06 -8.445704e+05 -3.076704e+05 -5.555556e+05 -7.727111e+05   \n",
       "25%    2.868635e+10  0.000000e+00  3.333333e+01  2.203704e+03  1.833333e+03   \n",
       "50%    1.152850e+11  7.040741e+03  7.814815e+02  9.592593e+03  1.049259e+04   \n",
       "75%    2.593958e+11  1.063000e+05  4.003704e+03  3.552130e+04  4.101852e+04   \n",
       "max    4.641209e+11  9.499693e+07  1.820889e+08  1.299011e+09  1.683374e+09   \n",
       "\n",
       "          extra_exp     extra_inc  extra_profit_loss  finished_prod  \\\n",
       "count  2.693000e+05  2.693000e+05       2.706260e+05   1.748500e+04   \n",
       "mean   1.521749e+03  3.754458e+03       2.229149e+03   1.056481e+05   \n",
       "std    7.237342e+04  1.727794e+05       1.611169e+05   5.338053e+05   \n",
       "min   -4.902703e+05 -2.744074e+05      -6.181263e+06   0.000000e+00   \n",
       "25%    0.000000e+00  0.000000e+00       0.000000e+00   0.000000e+00   \n",
       "50%    0.000000e+00  0.000000e+00       0.000000e+00   0.000000e+00   \n",
       "75%    0.000000e+00  0.000000e+00       0.000000e+00   3.592592e+02   \n",
       "max    1.704172e+07  7.233078e+07       7.233078e+07   1.803635e+07   \n",
       "\n",
       "       fixed_assets   inc_bef_tax  intang_assets   inventories    liq_assets  \\\n",
       "count  2.876980e+05  2.803920e+05   2.876890e+05  2.876980e+05  2.876980e+05   \n",
       "mean   3.393731e+05  2.332423e+04   3.782416e+04  6.052729e+04  4.098719e+04   \n",
       "std    1.823176e+07  2.413799e+06   6.260181e+06  6.670054e+05  6.602564e+05   \n",
       "min   -2.394226e+06 -3.355148e+08  -3.770370e+03 -3.069630e+04 -5.555556e+05   \n",
       "25%    0.000000e+00 -3.388889e+03   0.000000e+00  0.000000e+00  3.370370e+02   \n",
       "50%    3.825926e+03  7.037037e+01   0.000000e+00  4.555555e+02  1.851852e+03   \n",
       "75%    3.593982e+04  3.774074e+03   0.000000e+00  5.580556e+03  9.503704e+03   \n",
       "max    7.940211e+09  8.977000e+08   1.813456e+09  1.078533e+08  1.617547e+08   \n",
       "\n",
       "       material_exp  net_dom_sales  net_exp_sales  personnel_exp  \\\n",
       "count  2.797890e+05   1.825700e+04   1.825700e+04   2.797890e+05   \n",
       "mean   3.594648e+05   2.118066e+06   3.368463e+06   9.229396e+04   \n",
       "std    2.940907e+06   6.746671e+06   1.135202e+07   7.058337e+05   \n",
       "min   -1.239974e+07  -8.458481e+05  -1.470007e+07  -4.338074e+05   \n",
       "25%    3.433333e+03   1.775926e+04   0.000000e+00   4.888889e+02   \n",
       "50%    2.361481e+04   1.943373e+05   0.000000e+00   7.885185e+03   \n",
       "75%    8.700000e+04   1.601967e+06   6.323333e+05   2.640741e+04   \n",
       "max    1.521631e+08   1.089101e+08   1.105340e+08   6.146913e+07   \n",
       "\n",
       "       profit_loss_year         sales      share_eq  subscribed_cap  \\\n",
       "count      2.779450e+05  2.803920e+05  2.876980e+05    2.876980e+05   \n",
       "mean       5.152337e+03  5.042513e+05  2.350564e+05    7.741440e+04   \n",
       "std        1.892475e+06  3.861890e+06  7.465366e+06    1.746095e+06   \n",
       "min       -3.355148e+08 -1.472559e+07 -4.210445e+07   -5.555556e+05   \n",
       "25%       -3.270370e+03  5.295370e+03 -4.533333e+03    1.851852e+03   \n",
       "50%        0.000000e+00  3.280741e+04  3.838889e+03    5.555556e+03   \n",
       "75%        1.914815e+03  1.210056e+05  2.706296e+04    1.111111e+04   \n",
       "max        8.977000e+08  1.110294e+08  2.795907e+09    6.918000e+08   \n",
       "\n",
       "        tang_assets         wages    D  balsheet_flag  balsheet_length  \\\n",
       "count  2.863590e+05  1.798300e+04  0.0  287829.000000    287829.000000   \n",
       "mean   2.216273e+05  6.554714e+05  NaN       0.013327       345.584719   \n",
       "std    2.580851e+06  1.725947e+06  NaN       0.114673        65.537706   \n",
       "min   -2.390456e+06 -1.825248e+06  NaN       0.000000         0.000000   \n",
       "25%    0.000000e+00  3.500000e+03  NaN       0.000000       364.000000   \n",
       "50%    3.311111e+03  6.485555e+04  NaN       0.000000       364.000000   \n",
       "75%    3.299630e+04  5.497648e+05  NaN       0.000000       364.000000   \n",
       "max    4.511007e+08  4.553498e+07  NaN       1.000000       365.000000   \n",
       "\n",
       "       balsheet_notfullyear           year   founded_year     exit_year  \\\n",
       "count         287829.000000  287829.000000  231372.000000  38859.000000   \n",
       "mean               0.100237    2010.570356    2002.177545   2013.950102   \n",
       "std                0.300316       3.180848       6.931043      2.160074   \n",
       "min                0.000000    2005.000000    1950.000000   1997.000000   \n",
       "25%                0.000000    2008.000000    1996.000000   2013.000000   \n",
       "50%                0.000000    2011.000000    2002.000000   2015.000000   \n",
       "75%                0.000000    2013.000000    2008.000000   2016.000000   \n",
       "max                1.000000    2016.000000    2015.000000   2017.000000   \n",
       "\n",
       "           ceo_count        foreign         female     birth_year  \\\n",
       "count  231402.000000  231402.000000  231402.000000  176011.000000   \n",
       "mean        1.254038       0.115653       0.255157    1964.902661   \n",
       "std         0.517837       0.308518       0.406538      11.546875   \n",
       "min         1.000000       0.000000       0.000000    1920.000000   \n",
       "25%         1.000000       0.000000       0.000000    1956.000000   \n",
       "50%         1.000000       0.000000       0.000000    1966.000000   \n",
       "75%         1.000000       0.000000       0.500000    1974.000000   \n",
       "max        15.000000       1.000000       1.000000    2016.000000   \n",
       "\n",
       "       inoffice_days      nace_main           ind2            ind  \\\n",
       "count  231402.000000  286791.000000  286791.000000  278060.000000   \n",
       "mean     3205.323629    4858.231479      48.353062       2.692023   \n",
       "std      1880.553038    1250.012437      12.570550       0.512269   \n",
       "min         1.000000     111.000000       1.000000       1.000000   \n",
       "25%      1775.000000    3314.000000      33.000000       2.000000   \n",
       "50%      2838.000000    5610.000000      56.000000       3.000000   \n",
       "75%      4468.750000    5610.000000      56.000000       3.000000   \n",
       "max     10983.000000    9609.000000      96.000000       3.000000   \n",
       "\n",
       "             urban_m      labor_avg  \n",
       "count  287829.000000  141297.000000  \n",
       "mean        2.067075       1.009435  \n",
       "std         0.847473       4.771655  \n",
       "min         1.000000       0.000000  \n",
       "25%         1.000000       0.090909  \n",
       "50%         2.000000       0.243056  \n",
       "75%         3.000000       0.583333  \n",
       "max         3.000000     219.333344  "
      ]
     },
     "execution_count": 77,
     "metadata": {},
     "output_type": "execute_result"
    }
   ],
   "source": [
    "data.describe()"
   ]
  },
  {
   "cell_type": "code",
   "execution_count": 78,
   "metadata": {},
   "outputs": [
    {
     "data": {
      "text/plain": [
       "Index(['comp_id', 'begin', 'end', 'COGS', 'amort', 'curr_assets', 'curr_liab',\n",
       "       'extra_exp', 'extra_inc', 'extra_profit_loss', 'finished_prod',\n",
       "       'fixed_assets', 'inc_bef_tax', 'intang_assets', 'inventories',\n",
       "       'liq_assets', 'material_exp', 'net_dom_sales', 'net_exp_sales',\n",
       "       'personnel_exp', 'profit_loss_year', 'sales', 'share_eq',\n",
       "       'subscribed_cap', 'tang_assets', 'wages', 'D', 'balsheet_flag',\n",
       "       'balsheet_length', 'balsheet_notfullyear', 'year', 'founded_year',\n",
       "       'exit_year', 'ceo_count', 'foreign', 'female', 'birth_year',\n",
       "       'inoffice_days', 'gender', 'origin', 'nace_main', 'ind2', 'ind',\n",
       "       'urban_m', 'region_m', 'founded_date', 'exit_date', 'labor_avg'],\n",
       "      dtype='object')"
      ]
     },
     "execution_count": 78,
     "metadata": {},
     "output_type": "execute_result"
    }
   ],
   "source": [
    "data.columns"
   ]
  },
  {
   "cell_type": "code",
   "execution_count": 79,
   "metadata": {},
   "outputs": [],
   "source": [
    "# Create target variable indicating default\n",
    "data['default'] = ((data['year'] == 2015) &\n",
    "                           ((data['sales'] == 0) |\n",
    "                           (data['sales'].isna())))"
   ]
  },
  {
   "cell_type": "markdown",
   "metadata": {},
   "source": [
    "# Data cleaning"
   ]
  },
  {
   "cell_type": "code",
   "execution_count": 80,
   "metadata": {},
   "outputs": [
    {
     "data": {
      "text/plain": [
       "comp_id                      0\n",
       "begin                        0\n",
       "end                          0\n",
       "COGS                    269572\n",
       "amort                     8040\n",
       "curr_assets                131\n",
       "curr_liab                  131\n",
       "extra_exp                18529\n",
       "extra_inc                18529\n",
       "extra_profit_loss        17203\n",
       "finished_prod           270344\n",
       "fixed_assets               131\n",
       "inc_bef_tax               7437\n",
       "intang_assets              140\n",
       "inventories                131\n",
       "liq_assets                 131\n",
       "material_exp              8040\n",
       "net_dom_sales           269572\n",
       "net_exp_sales           269572\n",
       "personnel_exp             8040\n",
       "profit_loss_year          9884\n",
       "sales                     7437\n",
       "share_eq                   131\n",
       "subscribed_cap             131\n",
       "tang_assets               1470\n",
       "wages                   269846\n",
       "D                       287829\n",
       "balsheet_flag                0\n",
       "balsheet_length              0\n",
       "balsheet_notfullyear         0\n",
       "year                         0\n",
       "founded_year             56457\n",
       "exit_year               248970\n",
       "ceo_count                56427\n",
       "foreign                  56427\n",
       "female                   56427\n",
       "birth_year              111818\n",
       "inoffice_days            56427\n",
       "gender                   56427\n",
       "origin                   56427\n",
       "nace_main                 1038\n",
       "ind2                      1038\n",
       "ind                       9769\n",
       "urban_m                      0\n",
       "region_m                   840\n",
       "founded_date                51\n",
       "exit_date               231649\n",
       "labor_avg               146532\n",
       "default                      0\n",
       "dtype: int64"
      ]
     },
     "execution_count": 80,
     "metadata": {},
     "output_type": "execute_result"
    }
   ],
   "source": [
    "data.isnull().sum()"
   ]
  },
  {
   "cell_type": "code",
   "execution_count": 81,
   "metadata": {},
   "outputs": [],
   "source": [
    "# 'columns_to_drop' is a list containing the names of the columns to be dropped\n",
    "columns_to_drop = ['COGS', 'finished_prod', 'net_dom_sales','net_exp_sales','wages','D','exit_year','exit_date','begin','end','birth_year','founded_year','founded_date']\n",
    "# Dropping multiple columns from the DataFrame\n",
    "data.drop(columns=columns_to_drop, inplace=True)"
   ]
  },
  {
   "cell_type": "code",
   "execution_count": 82,
   "metadata": {},
   "outputs": [],
   "source": [
    "# 'columns_to_fill' is a list containing the names of the columns you want to fill missing values with mode\n",
    "columns_to_fill = ['gender','origin','region_m']\n",
    "\n",
    "# Fill missing values in specified columns with mode\n",
    "for column in columns_to_fill:\n",
    "    mode_value = data[column].mode()[0]  # Calculate mode for the column\n",
    "    data[column].fillna(mode_value, inplace=True)"
   ]
  },
  {
   "cell_type": "code",
   "execution_count": 83,
   "metadata": {},
   "outputs": [],
   "source": [
    "# Make hold out data before fill the null with the mean value\n",
    "# Filter data based on 'ind2 == 26'\n",
    "# Filter data based on conditions for hold-out sample creation\n",
    "holdout_data = data[data['ind2'] == 26] \n",
    "holdout_data_id = holdout_data[(holdout_data['year'] == 2014) & \n",
    "                         (holdout_data['sales'] >= 1000) & \n",
    "                         (holdout_data['sales'] <= 10000000)]['comp_id'].unique()# group by id\n",
    "holdout_data = holdout_data[holdout_data['comp_id'].isin(holdout_data_id)]#data_holdout has all years of the id "
   ]
  },
  {
   "cell_type": "code",
   "execution_count": 84,
   "metadata": {},
   "outputs": [],
   "source": [
    "# Assuming 'columns_to_fill' is a list containing the names of the columns you want to fill with the mean\n",
    "columns_to_fill = ['amort', 'material_exp', 'personnel_exp','ceo_count','foreign','female','inoffice_days','labor_avg','curr_assets','curr_liab','extra_exp', 'extra_inc',\n",
    "       'extra_profit_loss', 'fixed_assets', 'inc_bef_tax', 'intang_assets', 'inventories', 'liq_assets','profit_loss_year', 'sales', 'share_eq', 'subscribed_cap',\n",
    "       'tang_assets', 'nace_main', 'ind2', 'ind']\n",
    "\n",
    "# Filling missing values in multiple columns with the mean\n",
    "data[columns_to_fill] = data[columns_to_fill].fillna(data[columns_to_fill].mean())\n",
    "holdout_data[columns_to_fill] = holdout_data[columns_to_fill].fillna(holdout_data[columns_to_fill].mean())"
   ]
  },
  {
   "cell_type": "code",
   "execution_count": 85,
   "metadata": {},
   "outputs": [],
   "source": [
    "from sklearn.preprocessing import LabelEncoder\n",
    "\n",
    "# Assuming 'columns_to_encode' is a list containing the names of the columns you want to label encode\n",
    "columns_to_encode = ['gender', 'origin', 'region_m','default']\n",
    "\n",
    "# Iterate through each column and perform label encoding\n",
    "for col in columns_to_encode:\n",
    "    label_encoder = LabelEncoder()\n",
    "    data[col] = label_encoder.fit_transform(data[col])\n",
    "    holdout_data[col] = label_encoder.fit_transform(holdout_data[col])"
   ]
  },
  {
   "cell_type": "code",
   "execution_count": 86,
   "metadata": {},
   "outputs": [],
   "source": [
    "#check if there are 981 firms that stayed alive\n",
    "#already filtered for existence in 2014 above\n",
    "holdout_data_alive_id = holdout_data[(holdout_data['year'] == 2015) \n",
    "                                    & (holdout_data['sales'] > 0 )]['comp_id'].unique()\n",
    "holdout_data_default_id = holdout_data[(holdout_data['comp_id'].isin(holdout_data_alive_id)) == False]['comp_id'].unique()"
   ]
  },
  {
   "cell_type": "markdown",
   "metadata": {},
   "source": [
    "\" If you do the sample design properly, you have an overall of 1037 firms. 56 firms defaulted, and 981\n",
    "stayed alive. The average sales of the firms is 0.4902 million EUR, with the minimum of 0.00107 million\n",
    "EUR and 9.57648 million EUR.\""
   ]
  },
  {
   "cell_type": "code",
   "execution_count": 106,
   "metadata": {},
   "outputs": [
    {
     "name": "stdout",
     "output_type": "stream",
     "text": [
      "Total firms: 1037\n",
      "Defaulted firms: 56\n",
      "Alive firms: 981\n",
      "Average sales (EUR): 490202.217927\n",
      "Minimum sales (EUR): 1070.370361\n",
      "Maximum sales (EUR): 9576485.000000\n"
     ]
    }
   ],
   "source": [
    "total_firms = len(holdout_data_id)\n",
    "defaulted_firms = len(holdout_data_default_id)\n",
    "alive_firms = len(holdout_data_alive_id)\n",
    "\n",
    "# Calculate average sales of firms\n",
    "average_sales = holdout_data[(holdout_data['comp_id'].isin(holdout_data_id)) & (holdout_data['year'] == 2014)]['sales'].mean()\n",
    "min_sales = holdout_data[(holdout_data['comp_id'].isin(holdout_data_id)) & (holdout_data['year'] == 2014)]['sales'].min()\n",
    "max_sales = holdout_data[(holdout_data['comp_id'].isin(holdout_data_id)) & (holdout_data['year'] == 2014)]['sales'].max()\n",
    "# Print the summary statistics\n",
    "print(f\"Total firms: {total_firms}\")\n",
    "print(f\"Defaulted firms: {defaulted_firms}\")\n",
    "print(f\"Alive firms: {alive_firms}\")\n",
    "print(f\"Average sales (EUR): {average_sales:.6f}\")\n",
    "print(f\"Minimum sales (EUR): {min_sales:.6f}\")\n",
    "print(f\"Maximum sales (EUR): {max_sales:.6f}\")"
   ]
  },
  {
   "cell_type": "code",
   "execution_count": 118,
   "metadata": {},
   "outputs": [
    {
     "data": {
      "image/png": "[encoded data removed]",
      "text/plain": [
       "<Figure size 720x432 with 1 Axes>"
      ]
     },
     "metadata": {
      "needs_background": "light"
     },
     "output_type": "display_data"
    }
   ],
   "source": [
    "plt.figure(figsize=(10, 6))\n",
    "plt.hist(data[data['sales']>1000000]['sales'], bins=50, color='skyblue', edgecolor='black')\n",
    "plt.title('Distribution of Sales')\n",
    "plt.xlabel('Sales (EUR)')\n",
    "plt.ylabel('Frequency')\n",
    "plt.grid(True)\n",
    "plt.show()"
   ]
  },
  {
   "cell_type": "markdown",
   "metadata": {},
   "source": [
    "#  Making 3 Models"
   ]
  },
  {
   "cell_type": "code",
   "execution_count": 88,
   "metadata": {},
   "outputs": [],
   "source": [
    "# Step 2: Split the data into features (X) and target variable (y)\n",
    "X = data.drop('default', axis=1)\n",
    "y = data['default']"
   ]
  },
  {
   "cell_type": "code",
   "execution_count": 89,
   "metadata": {},
   "outputs": [],
   "source": [
    "# Step 3: Normalize the features\n",
    "scaler = StandardScaler()\n",
    "X_normalized = scaler.fit_transform(X)"
   ]
  },
  {
   "cell_type": "code",
   "execution_count": 90,
   "metadata": {},
   "outputs": [],
   "source": [
    "# Step 4: Split the data into training and testing sets with stratified sampling\n",
    "X_train, X_test, y_train, y_test = train_test_split(X_normalized, y, test_size=0.2, random_state=42, stratify=y)"
   ]
  },
  {
   "cell_type": "code",
   "execution_count": 91,
   "metadata": {},
   "outputs": [
    {
     "data": {
      "text/html": [
       "<style>#sk-container-id-4 {color: black;}#sk-container-id-4 pre{padding: 0;}#sk-container-id-4 div.sk-toggleable {background-color: white;}#sk-container-id-4 label.sk-toggleable__label {cursor: pointer;display: block;width: 100%;margin-bottom: 0;padding: 0.3em;box-sizing: border-box;text-align: center;}#sk-container-id-4 label.sk-toggleable__label-arrow:before {content: \"▸\";float: left;margin-right: 0.25em;color: #696969;}#sk-container-id-4 label.sk-toggleable__label-arrow:hover:before {color: black;}#sk-container-id-4 div.sk-estimator:hover label.sk-toggleable__label-arrow:before {color: black;}#sk-container-id-4 div.sk-toggleable__content {max-height: 0;max-width: 0;overflow: hidden;text-align: left;background-color: #f0f8ff;}#sk-container-id-4 div.sk-toggleable__content pre {margin: 0.2em;color: black;border-radius: 0.25em;background-color: #f0f8ff;}#sk-container-id-4 input.sk-toggleable__control:checked~div.sk-toggleable__content {max-height: 200px;max-width: 100%;overflow: auto;}#sk-container-id-4 input.sk-toggleable__control:checked~label.sk-toggleable__label-arrow:before {content: \"▾\";}#sk-container-id-4 div.sk-estimator input.sk-toggleable__control:checked~label.sk-toggleable__label {background-color: #d4ebff;}#sk-container-id-4 div.sk-label input.sk-toggleable__control:checked~label.sk-toggleable__label {background-color: #d4ebff;}#sk-container-id-4 input.sk-hidden--visually {border: 0;clip: rect(1px 1px 1px 1px);clip: rect(1px, 1px, 1px, 1px);height: 1px;margin: -1px;overflow: hidden;padding: 0;position: absolute;width: 1px;}#sk-container-id-4 div.sk-estimator {font-family: monospace;background-color: #f0f8ff;border: 1px dotted black;border-radius: 0.25em;box-sizing: border-box;margin-bottom: 0.5em;}#sk-container-id-4 div.sk-estimator:hover {background-color: #d4ebff;}#sk-container-id-4 div.sk-parallel-item::after {content: \"\";width: 100%;border-bottom: 1px solid gray;flex-grow: 1;}#sk-container-id-4 div.sk-label:hover label.sk-toggleable__label {background-color: #d4ebff;}#sk-container-id-4 div.sk-serial::before {content: \"\";position: absolute;border-left: 1px solid gray;box-sizing: border-box;top: 0;bottom: 0;left: 50%;z-index: 0;}#sk-container-id-4 div.sk-serial {display: flex;flex-direction: column;align-items: center;background-color: white;padding-right: 0.2em;padding-left: 0.2em;position: relative;}#sk-container-id-4 div.sk-item {position: relative;z-index: 1;}#sk-container-id-4 div.sk-parallel {display: flex;align-items: stretch;justify-content: center;background-color: white;position: relative;}#sk-container-id-4 div.sk-item::before, #sk-container-id-4 div.sk-parallel-item::before {content: \"\";position: absolute;border-left: 1px solid gray;box-sizing: border-box;top: 0;bottom: 0;left: 50%;z-index: -1;}#sk-container-id-4 div.sk-parallel-item {display: flex;flex-direction: column;z-index: 1;position: relative;background-color: white;}#sk-container-id-4 div.sk-parallel-item:first-child::after {align-self: flex-end;width: 50%;}#sk-container-id-4 div.sk-parallel-item:last-child::after {align-self: flex-start;width: 50%;}#sk-container-id-4 div.sk-parallel-item:only-child::after {width: 0;}#sk-container-id-4 div.sk-dashed-wrapped {border: 1px dashed gray;margin: 0 0.4em 0.5em 0.4em;box-sizing: border-box;padding-bottom: 0.4em;background-color: white;}#sk-container-id-4 div.sk-label label {font-family: monospace;font-weight: bold;display: inline-block;line-height: 1.2em;}#sk-container-id-4 div.sk-label-container {text-align: center;}#sk-container-id-4 div.sk-container {/* jupyter's `normalize.less` sets `[hidden] { display: none; }` but bootstrap.min.css set `[hidden] { display: none !important; }` so we also need the `!important` here to be able to override the default hidden behavior on the sphinx rendered scikit-learn.org. See: https://github.com/scikit-learn/scikit-learn/issues/21755 */display: inline-block !important;position: relative;}#sk-container-id-4 div.sk-text-repr-fallback {display: none;}</style><div id=\"sk-container-id-4\" class=\"sk-top-container\"><div class=\"sk-text-repr-fallback\"><pre>LogisticRegression()</pre><b>In a Jupyter environment, please rerun this cell to show the HTML representation or trust the notebook. <br />On GitHub, the HTML representation is unable to render, please try loading this page with nbviewer.org.</b></div><div class=\"sk-container\" hidden><div class=\"sk-item\"><div class=\"sk-estimator sk-toggleable\"><input class=\"sk-toggleable__control sk-hidden--visually\" id=\"sk-estimator-id-4\" type=\"checkbox\" checked><label for=\"sk-estimator-id-4\" class=\"sk-toggleable__label sk-toggleable__label-arrow\">LogisticRegression</label><div class=\"sk-toggleable__content\"><pre>LogisticRegression()</pre></div></div></div></div></div>"
      ],
      "text/plain": [
       "LogisticRegression()"
      ]
     },
     "execution_count": 91,
     "metadata": {},
     "output_type": "execute_result"
    }
   ],
   "source": [
    "# Step 5: Train three different models\n",
    "# Model 1: Logistic Regression\n",
    "logreg_model = LogisticRegression()\n",
    "logreg_model.fit(X_train, y_train)"
   ]
  },
  {
   "cell_type": "code",
   "execution_count": 92,
   "metadata": {},
   "outputs": [
    {
     "data": {
      "text/html": [
       "<style>#sk-container-id-5 {color: black;}#sk-container-id-5 pre{padding: 0;}#sk-container-id-5 div.sk-toggleable {background-color: white;}#sk-container-id-5 label.sk-toggleable__label {cursor: pointer;display: block;width: 100%;margin-bottom: 0;padding: 0.3em;box-sizing: border-box;text-align: center;}#sk-container-id-5 label.sk-toggleable__label-arrow:before {content: \"▸\";float: left;margin-right: 0.25em;color: #696969;}#sk-container-id-5 label.sk-toggleable__label-arrow:hover:before {color: black;}#sk-container-id-5 div.sk-estimator:hover label.sk-toggleable__label-arrow:before {color: black;}#sk-container-id-5 div.sk-toggleable__content {max-height: 0;max-width: 0;overflow: hidden;text-align: left;background-color: #f0f8ff;}#sk-container-id-5 div.sk-toggleable__content pre {margin: 0.2em;color: black;border-radius: 0.25em;background-color: #f0f8ff;}#sk-container-id-5 input.sk-toggleable__control:checked~div.sk-toggleable__content {max-height: 200px;max-width: 100%;overflow: auto;}#sk-container-id-5 input.sk-toggleable__control:checked~label.sk-toggleable__label-arrow:before {content: \"▾\";}#sk-container-id-5 div.sk-estimator input.sk-toggleable__control:checked~label.sk-toggleable__label {background-color: #d4ebff;}#sk-container-id-5 div.sk-label input.sk-toggleable__control:checked~label.sk-toggleable__label {background-color: #d4ebff;}#sk-container-id-5 input.sk-hidden--visually {border: 0;clip: rect(1px 1px 1px 1px);clip: rect(1px, 1px, 1px, 1px);height: 1px;margin: -1px;overflow: hidden;padding: 0;position: absolute;width: 1px;}#sk-container-id-5 div.sk-estimator {font-family: monospace;background-color: #f0f8ff;border: 1px dotted black;border-radius: 0.25em;box-sizing: border-box;margin-bottom: 0.5em;}#sk-container-id-5 div.sk-estimator:hover {background-color: #d4ebff;}#sk-container-id-5 div.sk-parallel-item::after {content: \"\";width: 100%;border-bottom: 1px solid gray;flex-grow: 1;}#sk-container-id-5 div.sk-label:hover label.sk-toggleable__label {background-color: #d4ebff;}#sk-container-id-5 div.sk-serial::before {content: \"\";position: absolute;border-left: 1px solid gray;box-sizing: border-box;top: 0;bottom: 0;left: 50%;z-index: 0;}#sk-container-id-5 div.sk-serial {display: flex;flex-direction: column;align-items: center;background-color: white;padding-right: 0.2em;padding-left: 0.2em;position: relative;}#sk-container-id-5 div.sk-item {position: relative;z-index: 1;}#sk-container-id-5 div.sk-parallel {display: flex;align-items: stretch;justify-content: center;background-color: white;position: relative;}#sk-container-id-5 div.sk-item::before, #sk-container-id-5 div.sk-parallel-item::before {content: \"\";position: absolute;border-left: 1px solid gray;box-sizing: border-box;top: 0;bottom: 0;left: 50%;z-index: -1;}#sk-container-id-5 div.sk-parallel-item {display: flex;flex-direction: column;z-index: 1;position: relative;background-color: white;}#sk-container-id-5 div.sk-parallel-item:first-child::after {align-self: flex-end;width: 50%;}#sk-container-id-5 div.sk-parallel-item:last-child::after {align-self: flex-start;width: 50%;}#sk-container-id-5 div.sk-parallel-item:only-child::after {width: 0;}#sk-container-id-5 div.sk-dashed-wrapped {border: 1px dashed gray;margin: 0 0.4em 0.5em 0.4em;box-sizing: border-box;padding-bottom: 0.4em;background-color: white;}#sk-container-id-5 div.sk-label label {font-family: monospace;font-weight: bold;display: inline-block;line-height: 1.2em;}#sk-container-id-5 div.sk-label-container {text-align: center;}#sk-container-id-5 div.sk-container {/* jupyter's `normalize.less` sets `[hidden] { display: none; }` but bootstrap.min.css set `[hidden] { display: none !important; }` so we also need the `!important` here to be able to override the default hidden behavior on the sphinx rendered scikit-learn.org. See: https://github.com/scikit-learn/scikit-learn/issues/21755 */display: inline-block !important;position: relative;}#sk-container-id-5 div.sk-text-repr-fallback {display: none;}</style><div id=\"sk-container-id-5\" class=\"sk-top-container\"><div class=\"sk-text-repr-fallback\"><pre>RandomForestClassifier()</pre><b>In a Jupyter environment, please rerun this cell to show the HTML representation or trust the notebook. <br />On GitHub, the HTML representation is unable to render, please try loading this page with nbviewer.org.</b></div><div class=\"sk-container\" hidden><div class=\"sk-item\"><div class=\"sk-estimator sk-toggleable\"><input class=\"sk-toggleable__control sk-hidden--visually\" id=\"sk-estimator-id-5\" type=\"checkbox\" checked><label for=\"sk-estimator-id-5\" class=\"sk-toggleable__label sk-toggleable__label-arrow\">RandomForestClassifier</label><div class=\"sk-toggleable__content\"><pre>RandomForestClassifier()</pre></div></div></div></div></div>"
      ],
      "text/plain": [
       "RandomForestClassifier()"
      ]
     },
     "execution_count": 92,
     "metadata": {},
     "output_type": "execute_result"
    }
   ],
   "source": [
    "# Model 2: Random Forest Classifier\n",
    "rf_model = RandomForestClassifier()\n",
    "rf_model.fit(X_train, y_train)"
   ]
  },
  {
   "cell_type": "code",
   "execution_count": 93,
   "metadata": {},
   "outputs": [
    {
     "data": {
      "text/html": [
       "<style>#sk-container-id-6 {color: black;}#sk-container-id-6 pre{padding: 0;}#sk-container-id-6 div.sk-toggleable {background-color: white;}#sk-container-id-6 label.sk-toggleable__label {cursor: pointer;display: block;width: 100%;margin-bottom: 0;padding: 0.3em;box-sizing: border-box;text-align: center;}#sk-container-id-6 label.sk-toggleable__label-arrow:before {content: \"▸\";float: left;margin-right: 0.25em;color: #696969;}#sk-container-id-6 label.sk-toggleable__label-arrow:hover:before {color: black;}#sk-container-id-6 div.sk-estimator:hover label.sk-toggleable__label-arrow:before {color: black;}#sk-container-id-6 div.sk-toggleable__content {max-height: 0;max-width: 0;overflow: hidden;text-align: left;background-color: #f0f8ff;}#sk-container-id-6 div.sk-toggleable__content pre {margin: 0.2em;color: black;border-radius: 0.25em;background-color: #f0f8ff;}#sk-container-id-6 input.sk-toggleable__control:checked~div.sk-toggleable__content {max-height: 200px;max-width: 100%;overflow: auto;}#sk-container-id-6 input.sk-toggleable__control:checked~label.sk-toggleable__label-arrow:before {content: \"▾\";}#sk-container-id-6 div.sk-estimator input.sk-toggleable__control:checked~label.sk-toggleable__label {background-color: #d4ebff;}#sk-container-id-6 div.sk-label input.sk-toggleable__control:checked~label.sk-toggleable__label {background-color: #d4ebff;}#sk-container-id-6 input.sk-hidden--visually {border: 0;clip: rect(1px 1px 1px 1px);clip: rect(1px, 1px, 1px, 1px);height: 1px;margin: -1px;overflow: hidden;padding: 0;position: absolute;width: 1px;}#sk-container-id-6 div.sk-estimator {font-family: monospace;background-color: #f0f8ff;border: 1px dotted black;border-radius: 0.25em;box-sizing: border-box;margin-bottom: 0.5em;}#sk-container-id-6 div.sk-estimator:hover {background-color: #d4ebff;}#sk-container-id-6 div.sk-parallel-item::after {content: \"\";width: 100%;border-bottom: 1px solid gray;flex-grow: 1;}#sk-container-id-6 div.sk-label:hover label.sk-toggleable__label {background-color: #d4ebff;}#sk-container-id-6 div.sk-serial::before {content: \"\";position: absolute;border-left: 1px solid gray;box-sizing: border-box;top: 0;bottom: 0;left: 50%;z-index: 0;}#sk-container-id-6 div.sk-serial {display: flex;flex-direction: column;align-items: center;background-color: white;padding-right: 0.2em;padding-left: 0.2em;position: relative;}#sk-container-id-6 div.sk-item {position: relative;z-index: 1;}#sk-container-id-6 div.sk-parallel {display: flex;align-items: stretch;justify-content: center;background-color: white;position: relative;}#sk-container-id-6 div.sk-item::before, #sk-container-id-6 div.sk-parallel-item::before {content: \"\";position: absolute;border-left: 1px solid gray;box-sizing: border-box;top: 0;bottom: 0;left: 50%;z-index: -1;}#sk-container-id-6 div.sk-parallel-item {display: flex;flex-direction: column;z-index: 1;position: relative;background-color: white;}#sk-container-id-6 div.sk-parallel-item:first-child::after {align-self: flex-end;width: 50%;}#sk-container-id-6 div.sk-parallel-item:last-child::after {align-self: flex-start;width: 50%;}#sk-container-id-6 div.sk-parallel-item:only-child::after {width: 0;}#sk-container-id-6 div.sk-dashed-wrapped {border: 1px dashed gray;margin: 0 0.4em 0.5em 0.4em;box-sizing: border-box;padding-bottom: 0.4em;background-color: white;}#sk-container-id-6 div.sk-label label {font-family: monospace;font-weight: bold;display: inline-block;line-height: 1.2em;}#sk-container-id-6 div.sk-label-container {text-align: center;}#sk-container-id-6 div.sk-container {/* jupyter's `normalize.less` sets `[hidden] { display: none; }` but bootstrap.min.css set `[hidden] { display: none !important; }` so we also need the `!important` here to be able to override the default hidden behavior on the sphinx rendered scikit-learn.org. See: https://github.com/scikit-learn/scikit-learn/issues/21755 */display: inline-block !important;position: relative;}#sk-container-id-6 div.sk-text-repr-fallback {display: none;}</style><div id=\"sk-container-id-6\" class=\"sk-top-container\"><div class=\"sk-text-repr-fallback\"><pre>GradientBoostingClassifier()</pre><b>In a Jupyter environment, please rerun this cell to show the HTML representation or trust the notebook. <br />On GitHub, the HTML representation is unable to render, please try loading this page with nbviewer.org.</b></div><div class=\"sk-container\" hidden><div class=\"sk-item\"><div class=\"sk-estimator sk-toggleable\"><input class=\"sk-toggleable__control sk-hidden--visually\" id=\"sk-estimator-id-6\" type=\"checkbox\" checked><label for=\"sk-estimator-id-6\" class=\"sk-toggleable__label sk-toggleable__label-arrow\">GradientBoostingClassifier</label><div class=\"sk-toggleable__content\"><pre>GradientBoostingClassifier()</pre></div></div></div></div></div>"
      ],
      "text/plain": [
       "GradientBoostingClassifier()"
      ]
     },
     "execution_count": 93,
     "metadata": {},
     "output_type": "execute_result"
    }
   ],
   "source": [
    "# Model 3: Gradient Boosting Classifier\n",
    "gb_model = GradientBoostingClassifier()\n",
    "gb_model.fit(X_train, y_train)"
   ]
  },
  {
   "cell_type": "code",
   "execution_count": 94,
   "metadata": {},
   "outputs": [],
   "source": [
    "# Step 6: Evaluate the performance of each model on holdout_sample"
   ]
  },
  {
   "cell_type": "code",
   "execution_count": 95,
   "metadata": {},
   "outputs": [
    {
     "name": "stdout",
     "output_type": "stream",
     "text": [
      "Brier Score:\n",
      "Logistic Regression: 0.002422245906404418\n",
      "Random Forest Classifier: 0.0026454413332041467\n",
      "Gradient Boosting Classifier: 0.002525221987536404\n"
     ]
    }
   ],
   "source": [
    "# Calculate Brier score for each model\n",
    "logreg_brier_score = brier_score_loss(holdout_data['default'], logreg_model.predict_proba(holdout_data.drop('default', axis=1))[:,1])\n",
    "rf_brier_score = brier_score_loss(holdout_data['default'], rf_model.predict_proba(holdout_data.drop('default', axis=1))[:,1])\n",
    "gb_brier_score = brier_score_loss(holdout_data['default'], gb_model.predict_proba(holdout_data.drop('default', axis=1))[:,1])\n",
    "holdout_data\n",
    "print(\"Brier Score:\")\n",
    "print(\"Logistic Regression:\", logreg_brier_score)\n",
    "print(\"Random Forest Classifier:\", rf_brier_score)\n",
    "print(\"Gradient Boosting Classifier:\", gb_brier_score)"
   ]
  },
  {
   "cell_type": "code",
   "execution_count": 96,
   "metadata": {},
   "outputs": [
    {
     "data": {
      "image/png": "[encoded data removed]",
      "text/plain": [
       "<Figure size 576x432 with 1 Axes>"
      ]
     },
     "metadata": {
      "needs_background": "light"
     },
     "output_type": "display_data"
    }
   ],
   "source": [
    "# Plot ROC curves and calculate AUC for each model\n",
    "def plot_roc_curve(model, X_test, y_test, name):\n",
    "    fpr, tpr, thresholds = roc_curve(y_test, model.predict_proba(X_test)[:,1])\n",
    "    auc = roc_auc_score(y_test, model.predict_proba(X_test)[:,1])\n",
    "    plt.plot(fpr, tpr, label=name + f' (AUC = {auc:.2f})')\n",
    "    plt.xlabel('False Positive Rate')\n",
    "    plt.ylabel('True Positive Rate')\n",
    "    plt.title('ROC Curve')\n",
    "    plt.legend()\n",
    "\n",
    "plt.figure(figsize=(8, 6))\n",
    "plot_roc_curve(logreg_model, holdout_data.drop('default', axis=1), holdout_data['default'], 'Logistic Regression')\n",
    "plot_roc_curve(rf_model, holdout_data.drop('default', axis=1), holdout_data['default'], 'Random Forest Classifier')\n",
    "plot_roc_curve(gb_model, holdout_data.drop('default', axis=1), holdout_data['default'], 'Gradient Boosting Classifier')\n",
    "plt.show()"
   ]
  },
  {
   "cell_type": "code",
   "execution_count": 97,
   "metadata": {},
   "outputs": [],
   "source": [
    "# Calculate accuracy, sensitivity, and specificity for each model using optimal threshold\n",
    "def calculate_metrics(y_true, y_pred):\n",
    "    tn, fp, fn, tp = confusion_matrix(y_true, y_pred).ravel()\n",
    "    accuracy = (tp + tn) / (tp + tn + fp + fn)\n",
    "    sensitivity = tp / (tp + fn)\n",
    "    specificity = tn / (tn + fp)\n",
    "    return accuracy, sensitivity, specificity"
   ]
  },
  {
   "cell_type": "code",
   "execution_count": 98,
   "metadata": {},
   "outputs": [],
   "source": [
    "def calculate_optimal_threshold(model, X_test, y_test):\n",
    "    thresholds = np.arange(0, 1.05, 0.05)\n",
    "    optimal_threshold = None\n",
    "    optimal_metrics = None\n",
    "    for threshold in thresholds:\n",
    "        y_pred = (model.predict_proba(X_test)[:,1] >= threshold).astype(int)\n",
    "        accuracy, sensitivity, specificity = calculate_metrics(y_test, y_pred)\n",
    "        if optimal_metrics is None or accuracy + sensitivity + specificity > sum(optimal_metrics):\n",
    "            optimal_threshold = threshold\n",
    "            optimal_metrics = (accuracy, sensitivity, specificity)\n",
    "    return optimal_threshold, optimal_metrics"
   ]
  },
  {
   "cell_type": "code",
   "execution_count": 99,
   "metadata": {},
   "outputs": [],
   "source": [
    "logreg_optimal_threshold, logreg_metrics = calculate_optimal_threshold(logreg_model, holdout_data.drop('default', axis=1), holdout_data['default'])\n",
    "rf_optimal_threshold, rf_metrics = calculate_optimal_threshold(rf_model, holdout_data.drop('default', axis=1), holdout_data['default'])\n",
    "gb_optimal_threshold, gb_metrics = calculate_optimal_threshold(gb_model, holdout_data.drop('default', axis=1), holdout_data['default'])\n"
   ]
  },
  {
   "cell_type": "code",
   "execution_count": 100,
   "metadata": {},
   "outputs": [
    {
     "name": "stdout",
     "output_type": "stream",
     "text": [
      "\n",
      "Optimal Threshold and Metrics:\n",
      "Logistic Regression: Threshold = 0.05 , Accuracy = 0.9975777540935956 , Sensitivity = 0.0 , Specificity = 1.0\n",
      "Random Forest Classifier: Threshold = 0.35000000000000003 , Accuracy = 0.9975777540935956 , Sensitivity = 0.0 , Specificity = 1.0\n",
      "Gradient Boosting Classifier: Threshold = 1.0 , Accuracy = 0.9975777540935956 , Sensitivity = 0.0 , Specificity = 1.0\n"
     ]
    }
   ],
   "source": [
    "print(\"\\nOptimal Threshold and Metrics:\")\n",
    "print(\"Logistic Regression: Threshold =\", logreg_optimal_threshold, \", Accuracy =\", logreg_metrics[0], \", Sensitivity =\", logreg_metrics[1], \", Specificity =\", logreg_metrics[2])\n",
    "print(\"Random Forest Classifier: Threshold =\", rf_optimal_threshold, \", Accuracy =\", rf_metrics[0], \", Sensitivity =\", rf_metrics[1], \", Specificity =\", rf_metrics[2])\n",
    "print(\"Gradient Boosting Classifier: Threshold =\", gb_optimal_threshold, \", Accuracy =\", gb_metrics[0], \", Sensitivity =\", gb_metrics[1], \", Specificity =\", gb_metrics[2])\n"
   ]
  },
  {
   "cell_type": "code",
   "execution_count": 101,
   "metadata": {},
   "outputs": [],
   "source": [
    "# Calculate expected loss for each model\n",
    "loss_FN = 15\n",
    "loss_FP = 3"
   ]
  },
  {
   "cell_type": "code",
   "execution_count": 102,
   "metadata": {},
   "outputs": [],
   "source": [
    "def calculate_expected_loss(y_true, y_pred, loss_FN, loss_FP):\n",
    "    tn, fp, fn, tp = confusion_matrix(y_true, y_pred).ravel()\n",
    "    expected_loss = loss_FN * fn + loss_FP * fp\n",
    "    return expected_loss"
   ]
  },
  {
   "cell_type": "code",
   "execution_count": 103,
   "metadata": {},
   "outputs": [],
   "source": [
    "\n",
    "logreg_expected_loss = calculate_expected_loss(holdout_data['default'], (logreg_model.predict_proba(holdout_data.drop('default', axis=1))[:,1] >= logreg_optimal_threshold).astype(int), loss_FN, loss_FP)\n",
    "rf_expected_loss = calculate_expected_loss(holdout_data['default'], (rf_model.predict_proba(holdout_data.drop('default', axis=1))[:,1] >= rf_optimal_threshold).astype(int), loss_FN, loss_FP)\n",
    "gb_expected_loss = calculate_expected_loss(holdout_data['default'], (gb_model.predict_proba(holdout_data.drop('default', axis=1))[:,1] >= gb_optimal_threshold).astype(int), loss_FN, loss_FP)\n"
   ]
  },
  {
   "cell_type": "code",
   "execution_count": 104,
   "metadata": {},
   "outputs": [
    {
     "name": "stdout",
     "output_type": "stream",
     "text": [
      "\n",
      "Expected Loss:\n",
      "Logistic Regression: 375\n",
      "Random Forest Classifier: 375\n",
      "Gradient Boosting Classifier: 375\n"
     ]
    }
   ],
   "source": [
    "print(\"\\nExpected Loss:\")\n",
    "print(\"Logistic Regression:\", logreg_expected_loss)\n",
    "print(\"Random Forest Classifier:\", rf_expected_loss)\n",
    "print(\"Gradient Boosting Classifier:\", gb_expected_loss)"
   ]
  },
  {
   "cell_type": "code",
   "execution_count": 105,
   "metadata": {},
   "outputs": [
    {
     "name": "stdout",
     "output_type": "stream",
     "text": [
      "\n",
      "Classification Matrix:\n",
      "              precision    recall  f1-score   support\n",
      "\n",
      "           0       1.00      1.00      1.00     10296\n",
      "           1       0.00      0.00      0.00        25\n",
      "\n",
      "    accuracy                           1.00     10321\n",
      "   macro avg       0.50      0.50      0.50     10321\n",
      "weighted avg       1.00      1.00      1.00     10321\n",
      "\n",
      "\n",
      "Classification Matrix:\n",
      "              precision    recall  f1-score   support\n",
      "\n",
      "           0       1.00      1.00      1.00     10296\n",
      "           1       0.00      0.00      0.00        25\n",
      "\n",
      "    accuracy                           1.00     10321\n",
      "   macro avg       0.50      0.50      0.50     10321\n",
      "weighted avg       1.00      1.00      1.00     10321\n",
      "\n",
      "\n",
      "Classification Matrix:\n",
      "              precision    recall  f1-score   support\n",
      "\n",
      "           0       1.00      1.00      1.00     10296\n",
      "           1       0.00      0.00      0.00        25\n",
      "\n",
      "    accuracy                           1.00     10321\n",
      "   macro avg       0.50      0.50      0.50     10321\n",
      "weighted avg       1.00      1.00      1.00     10321\n",
      "\n"
     ]
    }
   ],
   "source": [
    "# Additional: Classification Matrix\n",
    "def print_classification_matrix(model, X_test, y_test):\n",
    "    y_pred = model.predict(X_test)\n",
    "    print(\"\\nClassification Matrix:\")\n",
    "    print(classification_report(y_test, y_pred))\n",
    "\n",
    "print_classification_matrix(logreg_model, holdout_data.drop('default', axis=1), holdout_data['default'])\n",
    "print_classification_matrix(rf_model, holdout_data.drop('default', axis=1), holdout_data['default'])\n",
    "print_classification_matrix(gb_model, holdout_data.drop('default', axis=1), holdout_data['default'])"
   ]
  }
 ],
 "metadata": {
  "kernelspec": {
   "display_name": "Python 3",
   "language": "python",
   "name": "python3"
  },
  "language_info": {
   "codemirror_mode": {
    "name": "ipython",
    "version": 3
   },
   "file_extension": ".py",
   "mimetype": "text/x-python",
   "name": "python",
   "nbconvert_exporter": "python",
   "pygments_lexer": "ipython3",
   "version": "3.10.3"
  },
  "orig_nbformat": 4
 },
 "nbformat": 4,
 "nbformat_minor": 2
}
